{
    "cells": [
        {
            "cell_type": "markdown",
            "metadata": {},
            "source": "Segmenting and Clustering Toronto Neighbourhoods for Coursera\nPart 1"
        },
        {
            "cell_type": "code",
            "execution_count": 1,
            "metadata": {},
            "outputs": [],
            "source": "#get the required libraries \nimport pandas as pd \nimport requests \nfrom bs4 import BeautifulSoup"
        },
        {
            "cell_type": "code",
            "execution_count": 2,
            "metadata": {},
            "outputs": [],
            "source": "#process and covert the html data\nlink=requests.get(\"https://en.wikipedia.org/wiki/List_of_postal_codes_of_Canada:_M\") \nsoup = BeautifulSoup(link.content,'lxml')"
        },
        {
            "cell_type": "code",
            "execution_count": 7,
            "metadata": {},
            "outputs": [
                {
                    "data": {
                        "text/plain": "(103, 3)"
                    },
                    "execution_count": 7,
                    "metadata": {},
                    "output_type": "execute_result"
                }
            ],
            "source": "toronto_table=[]\ntable=soup.find('table')\nfor row in table.findAll('td'):\n    cell = {}\n    #ignore cells with a borough that is not assigned\n    if row.span.text=='Not assigned':\n        pass\n    #If a cell has a borough but a \"Not assigned\" neighborhood, then the neighborhood will be the same as the borough.\n    else:\n        cell['PostalCode'] = row.p.text[:3]\n        cell['Borough'] = (row.span.text).split('(')[0]\n        cell['Neighborhood'] = (((((row.span.text).split('(')[1]).strip(')')).replace(' /',',')).replace(')',' ')).strip(' ')\n        toronto_table.append(cell)\n\n# Dataframe with 3 columns\ndf=pd.DataFrame(toronto_table)\ndf['Borough']=df['Borough'].replace({'Downtown TorontoStn A PO Boxes25 The Esplanade':'Downtown Toronto Stn A',\n                                             'East TorontoBusiness reply mail Processing Centre969 Eastern':'East Toronto Business',\n                                             'EtobicokeNorthwest':'Etobicoke Northwest','East YorkEast Toronto':'East York/East Toronto',\n                                             'MississaugaCanada Post Gateway Processing Centre':'Mississauga'})\ndf.head()\ndf.shape"
        },
        {
            "cell_type": "code",
            "execution_count": null,
            "metadata": {},
            "outputs": [],
            "source": ""
        }
    ],
    "metadata": {
        "kernelspec": {
            "display_name": "Python 3.7",
            "language": "python",
            "name": "python3"
        },
        "language_info": {
            "codemirror_mode": {
                "name": "ipython",
                "version": 3
            },
            "file_extension": ".py",
            "mimetype": "text/x-python",
            "name": "python",
            "nbconvert_exporter": "python",
            "pygments_lexer": "ipython3",
            "version": "3.7.10"
        }
    },
    "nbformat": 4,
    "nbformat_minor": 1
}