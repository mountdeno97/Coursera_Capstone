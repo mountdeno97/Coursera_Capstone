{
    "cells": [
        {
            "cell_type": "markdown",
            "metadata": {},
            "source": "Coursera Applied Data Science Capstone Project Part 1\nSegementing and Clustering Neighborhoods in Toronto"
        },
        {
            "cell_type": "code",
            "execution_count": 1,
            "metadata": {},
            "outputs": [],
            "source": "from bs4 import BeautifulSoup\nimport requests\nimport pandas as pd"
        },
        {
            "cell_type": "code",
            "execution_count": 2,
            "metadata": {},
            "outputs": [
                {
                    "data": {
                        "text/html": "<div>\n<style scoped>\n    .dataframe tbody tr th:only-of-type {\n        vertical-align: middle;\n    }\n\n    .dataframe tbody tr th {\n        vertical-align: top;\n    }\n\n    .dataframe thead th {\n        text-align: right;\n    }\n</style>\n<table border=\"1\" class=\"dataframe\">\n  <thead>\n    <tr style=\"text-align: right;\">\n      <th></th>\n      <th>0</th>\n      <th>1</th>\n      <th>2</th>\n      <th>3</th>\n      <th>4</th>\n      <th>5</th>\n      <th>6</th>\n      <th>7</th>\n      <th>8</th>\n    </tr>\n  </thead>\n  <tbody>\n    <tr>\n      <th>0</th>\n      <td>M1ANot assigned</td>\n      <td>M2ANot assigned</td>\n      <td>M3ANorth York(Parkwoods)</td>\n      <td>M4ANorth York(Victoria Village)</td>\n      <td>M5ADowntown Toronto(Regent Park / Harbourfront)</td>\n      <td>M6ANorth York(Lawrence Manor / Lawrence Heights)</td>\n      <td>M7AQueen's Park(Ontario Provincial Government)</td>\n      <td>M8ANot assigned</td>\n      <td>M9AEtobicoke(Islington Avenue)</td>\n    </tr>\n    <tr>\n      <th>1</th>\n      <td>M1BScarborough(Malvern / Rouge)</td>\n      <td>M2BNot assigned</td>\n      <td>M3BNorth York(Don Mills)North</td>\n      <td>M4BEast York(Parkview Hill / Woodbine Gardens)</td>\n      <td>M5BDowntown Toronto(Garden District, Ryerson)</td>\n      <td>M6BNorth York(Glencairn)</td>\n      <td>M7BNot assigned</td>\n      <td>M8BNot assigned</td>\n      <td>M9BEtobicoke(West Deane Park / Princess Garden...</td>\n    </tr>\n    <tr>\n      <th>2</th>\n      <td>M1CScarborough(Rouge Hill / Port Union / Highl...</td>\n      <td>M2CNot assigned</td>\n      <td>M3CNorth York(Don Mills)South(Flemingdon Park)</td>\n      <td>M4CEast York(Woodbine Heights)</td>\n      <td>M5CDowntown Toronto(St. James Town)</td>\n      <td>M6CYork(Humewood-Cedarvale)</td>\n      <td>M7CNot assigned</td>\n      <td>M8CNot assigned</td>\n      <td>M9CEtobicoke(Eringate / Bloordale Gardens / Ol...</td>\n    </tr>\n    <tr>\n      <th>3</th>\n      <td>M1EScarborough(Guildwood / Morningside / West ...</td>\n      <td>M2ENot assigned</td>\n      <td>M3ENot assigned</td>\n      <td>M4EEast Toronto(The Beaches)</td>\n      <td>M5EDowntown Toronto(Berczy Park)</td>\n      <td>M6EYork(Caledonia-Fairbanks)</td>\n      <td>M7ENot assigned</td>\n      <td>M8ENot assigned</td>\n      <td>M9ENot assigned</td>\n    </tr>\n    <tr>\n      <th>4</th>\n      <td>M1GScarborough(Woburn)</td>\n      <td>M2GNot assigned</td>\n      <td>M3GNot assigned</td>\n      <td>M4GEast York(Leaside)</td>\n      <td>M5GDowntown Toronto(Central Bay Street)</td>\n      <td>M6GDowntown Toronto(Christie)</td>\n      <td>M7GNot assigned</td>\n      <td>M8GNot assigned</td>\n      <td>M9GNot assigned</td>\n    </tr>\n  </tbody>\n</table>\n</div>",
                        "text/plain": "                                                   0                1  \\\n0                                    M1ANot assigned  M2ANot assigned   \n1                    M1BScarborough(Malvern / Rouge)  M2BNot assigned   \n2  M1CScarborough(Rouge Hill / Port Union / Highl...  M2CNot assigned   \n3  M1EScarborough(Guildwood / Morningside / West ...  M2ENot assigned   \n4                             M1GScarborough(Woburn)  M2GNot assigned   \n\n                                                2  \\\n0                        M3ANorth York(Parkwoods)   \n1                   M3BNorth York(Don Mills)North   \n2  M3CNorth York(Don Mills)South(Flemingdon Park)   \n3                                 M3ENot assigned   \n4                                 M3GNot assigned   \n\n                                                3  \\\n0                 M4ANorth York(Victoria Village)   \n1  M4BEast York(Parkview Hill / Woodbine Gardens)   \n2                  M4CEast York(Woodbine Heights)   \n3                    M4EEast Toronto(The Beaches)   \n4                           M4GEast York(Leaside)   \n\n                                                 4  \\\n0  M5ADowntown Toronto(Regent Park / Harbourfront)   \n1    M5BDowntown Toronto(Garden District, Ryerson)   \n2              M5CDowntown Toronto(St. James Town)   \n3                 M5EDowntown Toronto(Berczy Park)   \n4          M5GDowntown Toronto(Central Bay Street)   \n\n                                                  5  \\\n0  M6ANorth York(Lawrence Manor / Lawrence Heights)   \n1                          M6BNorth York(Glencairn)   \n2                       M6CYork(Humewood-Cedarvale)   \n3                      M6EYork(Caledonia-Fairbanks)   \n4                     M6GDowntown Toronto(Christie)   \n\n                                                6                7  \\\n0  M7AQueen's Park(Ontario Provincial Government)  M8ANot assigned   \n1                                 M7BNot assigned  M8BNot assigned   \n2                                 M7CNot assigned  M8CNot assigned   \n3                                 M7ENot assigned  M8ENot assigned   \n4                                 M7GNot assigned  M8GNot assigned   \n\n                                                   8  \n0                     M9AEtobicoke(Islington Avenue)  \n1  M9BEtobicoke(West Deane Park / Princess Garden...  \n2  M9CEtobicoke(Eringate / Bloordale Gardens / Ol...  \n3                                    M9ENot assigned  \n4                                    M9GNot assigned  "
                    },
                    "execution_count": 2,
                    "metadata": {},
                    "output_type": "execute_result"
                }
            ],
            "source": "# read the webpage from the wiki\nurl='https://en.wikipedia.org/wiki/List_of_postal_codes_of_Canada:_M'\nresponse = requests.get(url)\n#Process and convert html data\ndata = response.text\nsoup = BeautifulSoup(data,'html.parser')\nwiki_table=soup.find('table')\n#develop dataframe\ndf = pd.read_html(str(wiki_table))[0]\ndf.head()"
        },
        {
            "cell_type": "code",
            "execution_count": 3,
            "metadata": {},
            "outputs": [
                {
                    "ename": "ValueError",
                    "evalue": "Length mismatch: Expected axis has 9 elements, new values have 3 elements",
                    "output_type": "error",
                    "traceback": [
                        "\u001b[0;31m---------------------------------------------------------------------------\u001b[0m",
                        "\u001b[0;31mValueError\u001b[0m                                Traceback (most recent call last)",
                        "\u001b[0;32m<ipython-input-3-4bc05c6b7376>\u001b[0m in \u001b[0;36m<module>\u001b[0;34m\u001b[0m\n\u001b[1;32m      2\u001b[0m \u001b[0mdf\u001b[0m\u001b[0;34m.\u001b[0m\u001b[0mdrop\u001b[0m\u001b[0;34m(\u001b[0m\u001b[0;36m0\u001b[0m\u001b[0;34m,\u001b[0m\u001b[0minplace\u001b[0m\u001b[0;34m=\u001b[0m\u001b[0;32mTrue\u001b[0m\u001b[0;34m)\u001b[0m\u001b[0;34m\u001b[0m\u001b[0;34m\u001b[0m\u001b[0m\n\u001b[1;32m      3\u001b[0m \u001b[0;31m#Rename the columns names\u001b[0m\u001b[0;34m\u001b[0m\u001b[0;34m\u001b[0m\u001b[0;34m\u001b[0m\u001b[0m\n\u001b[0;32m----> 4\u001b[0;31m \u001b[0mdf\u001b[0m\u001b[0;34m.\u001b[0m\u001b[0mcolumns\u001b[0m \u001b[0;34m=\u001b[0m \u001b[0;34m[\u001b[0m\u001b[0;34m'PostalCode'\u001b[0m\u001b[0;34m,\u001b[0m\u001b[0;34m'Borough'\u001b[0m\u001b[0;34m,\u001b[0m\u001b[0;34m'Neighborhood'\u001b[0m\u001b[0;34m]\u001b[0m\u001b[0;34m\u001b[0m\u001b[0;34m\u001b[0m\u001b[0m\n\u001b[0m\u001b[1;32m      5\u001b[0m \u001b[0mdf\u001b[0m\u001b[0;34m.\u001b[0m\u001b[0mhead\u001b[0m\u001b[0;34m(\u001b[0m\u001b[0;34m)\u001b[0m\u001b[0;34m\u001b[0m\u001b[0;34m\u001b[0m\u001b[0m\n",
                        "\u001b[0;32m/opt/conda/envs/Python-3.7-main/lib/python3.7/site-packages/pandas/core/generic.py\u001b[0m in \u001b[0;36m__setattr__\u001b[0;34m(self, name, value)\u001b[0m\n\u001b[1;32m   5476\u001b[0m         \u001b[0;32mtry\u001b[0m\u001b[0;34m:\u001b[0m\u001b[0;34m\u001b[0m\u001b[0;34m\u001b[0m\u001b[0m\n\u001b[1;32m   5477\u001b[0m             \u001b[0mobject\u001b[0m\u001b[0;34m.\u001b[0m\u001b[0m__getattribute__\u001b[0m\u001b[0;34m(\u001b[0m\u001b[0mself\u001b[0m\u001b[0;34m,\u001b[0m \u001b[0mname\u001b[0m\u001b[0;34m)\u001b[0m\u001b[0;34m\u001b[0m\u001b[0;34m\u001b[0m\u001b[0m\n\u001b[0;32m-> 5478\u001b[0;31m             \u001b[0;32mreturn\u001b[0m \u001b[0mobject\u001b[0m\u001b[0;34m.\u001b[0m\u001b[0m__setattr__\u001b[0m\u001b[0;34m(\u001b[0m\u001b[0mself\u001b[0m\u001b[0;34m,\u001b[0m \u001b[0mname\u001b[0m\u001b[0;34m,\u001b[0m \u001b[0mvalue\u001b[0m\u001b[0;34m)\u001b[0m\u001b[0;34m\u001b[0m\u001b[0;34m\u001b[0m\u001b[0m\n\u001b[0m\u001b[1;32m   5479\u001b[0m         \u001b[0;32mexcept\u001b[0m \u001b[0mAttributeError\u001b[0m\u001b[0;34m:\u001b[0m\u001b[0;34m\u001b[0m\u001b[0;34m\u001b[0m\u001b[0m\n\u001b[1;32m   5480\u001b[0m             \u001b[0;32mpass\u001b[0m\u001b[0;34m\u001b[0m\u001b[0;34m\u001b[0m\u001b[0m\n",
                        "\u001b[0;32mpandas/_libs/properties.pyx\u001b[0m in \u001b[0;36mpandas._libs.properties.AxisProperty.__set__\u001b[0;34m()\u001b[0m\n",
                        "\u001b[0;32m/opt/conda/envs/Python-3.7-main/lib/python3.7/site-packages/pandas/core/generic.py\u001b[0m in \u001b[0;36m_set_axis\u001b[0;34m(self, axis, labels)\u001b[0m\n\u001b[1;32m    668\u001b[0m     \u001b[0;32mdef\u001b[0m \u001b[0m_set_axis\u001b[0m\u001b[0;34m(\u001b[0m\u001b[0mself\u001b[0m\u001b[0;34m,\u001b[0m \u001b[0maxis\u001b[0m\u001b[0;34m:\u001b[0m \u001b[0mint\u001b[0m\u001b[0;34m,\u001b[0m \u001b[0mlabels\u001b[0m\u001b[0;34m:\u001b[0m \u001b[0mIndex\u001b[0m\u001b[0;34m)\u001b[0m \u001b[0;34m->\u001b[0m \u001b[0;32mNone\u001b[0m\u001b[0;34m:\u001b[0m\u001b[0;34m\u001b[0m\u001b[0;34m\u001b[0m\u001b[0m\n\u001b[1;32m    669\u001b[0m         \u001b[0mlabels\u001b[0m \u001b[0;34m=\u001b[0m \u001b[0mensure_index\u001b[0m\u001b[0;34m(\u001b[0m\u001b[0mlabels\u001b[0m\u001b[0;34m)\u001b[0m\u001b[0;34m\u001b[0m\u001b[0;34m\u001b[0m\u001b[0m\n\u001b[0;32m--> 670\u001b[0;31m         \u001b[0mself\u001b[0m\u001b[0;34m.\u001b[0m\u001b[0m_mgr\u001b[0m\u001b[0;34m.\u001b[0m\u001b[0mset_axis\u001b[0m\u001b[0;34m(\u001b[0m\u001b[0maxis\u001b[0m\u001b[0;34m,\u001b[0m \u001b[0mlabels\u001b[0m\u001b[0;34m)\u001b[0m\u001b[0;34m\u001b[0m\u001b[0;34m\u001b[0m\u001b[0m\n\u001b[0m\u001b[1;32m    671\u001b[0m         \u001b[0mself\u001b[0m\u001b[0;34m.\u001b[0m\u001b[0m_clear_item_cache\u001b[0m\u001b[0;34m(\u001b[0m\u001b[0;34m)\u001b[0m\u001b[0;34m\u001b[0m\u001b[0;34m\u001b[0m\u001b[0m\n\u001b[1;32m    672\u001b[0m \u001b[0;34m\u001b[0m\u001b[0m\n",
                        "\u001b[0;32m/opt/conda/envs/Python-3.7-main/lib/python3.7/site-packages/pandas/core/internals/managers.py\u001b[0m in \u001b[0;36mset_axis\u001b[0;34m(self, axis, new_labels)\u001b[0m\n\u001b[1;32m    219\u001b[0m         \u001b[0;32mif\u001b[0m \u001b[0mnew_len\u001b[0m \u001b[0;34m!=\u001b[0m \u001b[0mold_len\u001b[0m\u001b[0;34m:\u001b[0m\u001b[0;34m\u001b[0m\u001b[0;34m\u001b[0m\u001b[0m\n\u001b[1;32m    220\u001b[0m             raise ValueError(\n\u001b[0;32m--> 221\u001b[0;31m                 \u001b[0;34mf\"Length mismatch: Expected axis has {old_len} elements, new \"\u001b[0m\u001b[0;34m\u001b[0m\u001b[0;34m\u001b[0m\u001b[0m\n\u001b[0m\u001b[1;32m    222\u001b[0m                 \u001b[0;34mf\"values have {new_len} elements\"\u001b[0m\u001b[0;34m\u001b[0m\u001b[0;34m\u001b[0m\u001b[0m\n\u001b[1;32m    223\u001b[0m             )\n",
                        "\u001b[0;31mValueError\u001b[0m: Length mismatch: Expected axis has 9 elements, new values have 3 elements"
                    ]
                }
            ],
            "source": "# Drop the first column\ndf.drop(0,inplace=True)\n#Rename the columns names\ndf.columns = ['PostalCode','Borough','Neighborhood']\ndf.head()"
        },
        {
            "cell_type": "code",
            "execution_count": null,
            "metadata": {},
            "outputs": [],
            "source": ""
        }
    ],
    "metadata": {
        "kernelspec": {
            "display_name": "Python 3.7",
            "language": "python",
            "name": "python3"
        },
        "language_info": {
            "codemirror_mode": {
                "name": "ipython",
                "version": 3
            },
            "file_extension": ".py",
            "mimetype": "text/x-python",
            "name": "python",
            "nbconvert_exporter": "python",
            "pygments_lexer": "ipython3",
            "version": "3.7.10"
        }
    },
    "nbformat": 4,
    "nbformat_minor": 1
}